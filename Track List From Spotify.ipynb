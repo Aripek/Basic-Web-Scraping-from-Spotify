{
 "cells": [
  {
   "cell_type": "code",
   "execution_count": 1,
   "id": "56314296-2a58-40ce-adce-5d4394ed2fea",
   "metadata": {},
   "outputs": [
    {
     "name": "stdout",
     "output_type": "stream",
     "text": [
      "Requirement already satisfied: spotipy in c:\\users\\user\\anaconda3\\lib\\site-packages (2.19.0)\n",
      "Requirement already satisfied: six>=1.15.0 in c:\\users\\user\\anaconda3\\lib\\site-packages (from spotipy) (1.16.0)\n",
      "Requirement already satisfied: urllib3>=1.26.0 in c:\\users\\user\\anaconda3\\lib\\site-packages (from spotipy) (1.26.7)\n",
      "Requirement already satisfied: requests>=2.25.0 in c:\\users\\user\\anaconda3\\lib\\site-packages (from spotipy) (2.26.0)\n",
      "Requirement already satisfied: idna<4,>=2.5 in c:\\users\\user\\anaconda3\\lib\\site-packages (from requests>=2.25.0->spotipy) (3.2)\n",
      "Requirement already satisfied: charset-normalizer~=2.0.0 in c:\\users\\user\\anaconda3\\lib\\site-packages (from requests>=2.25.0->spotipy) (2.0.4)\n",
      "Requirement already satisfied: certifi>=2017.4.17 in c:\\users\\user\\anaconda3\\lib\\site-packages (from requests>=2.25.0->spotipy) (2021.10.8)\n"
     ]
    }
   ],
   "source": [
    "!pip install spotipy"
   ]
  },
  {
   "cell_type": "code",
   "execution_count": 2,
   "id": "24e66641-e217-4e4c-8e8f-5eec25fa2bc4",
   "metadata": {},
   "outputs": [],
   "source": [
    "import spotipy\n",
    "from spotipy.oauth2 import SpotifyClientCredentials\n",
    "import pandas as pd\n",
    "cid = 'My Client ID'\n",
    "secret = 'My Secret ID'\n",
    "client_credentials_manager = SpotifyClientCredentials(client_id=cid, client_secret=secret)\n",
    "sp = spotipy.Spotify(client_credentials_manager = client_credentials_manager)"
   ]
  },
  {
   "cell_type": "code",
   "execution_count": 3,
   "id": "99854bbf-7e9c-41ef-bf55-ce42f0c596a7",
   "metadata": {},
   "outputs": [],
   "source": [
    "artist_name = []\n",
    "track_name = []\n",
    "popularity = []\n",
    "track_id = []\n",
    "\n",
    "for i in range(0,200,50):\n",
    "    track_results = sp.search(q='year:2021', type='track', limit=50,offset=i)\n",
    "    for i, t in enumerate(track_results['tracks']['items']):\n",
    "        artist_name.append(t['artists'][0]['name'])\n",
    "        track_name.append(t['name'])\n",
    "        track_id.append(t['id'])\n",
    "        popularity.append(t['popularity'])"
   ]
  },
  {
   "cell_type": "code",
   "execution_count": 4,
   "id": "1e45cca8-b9d8-4782-a940-f343f9710d94",
   "metadata": {},
   "outputs": [
    {
     "data": {
      "text/html": [
       "<div>\n",
       "<style scoped>\n",
       "    .dataframe tbody tr th:only-of-type {\n",
       "        vertical-align: middle;\n",
       "    }\n",
       "\n",
       "    .dataframe tbody tr th {\n",
       "        vertical-align: top;\n",
       "    }\n",
       "\n",
       "    .dataframe thead th {\n",
       "        text-align: right;\n",
       "    }\n",
       "</style>\n",
       "<table border=\"1\" class=\"dataframe\">\n",
       "  <thead>\n",
       "    <tr style=\"text-align: right;\">\n",
       "      <th></th>\n",
       "      <th>artist_name</th>\n",
       "      <th>track_name</th>\n",
       "      <th>track_id</th>\n",
       "      <th>popularity</th>\n",
       "    </tr>\n",
       "  </thead>\n",
       "  <tbody>\n",
       "    <tr>\n",
       "      <th>0</th>\n",
       "      <td>Carolina Gaitán - La Gaita</td>\n",
       "      <td>We Don't Talk About Bruno</td>\n",
       "      <td>52xJxFP6TqMuO4Yt0eOkMz</td>\n",
       "      <td>96</td>\n",
       "    </tr>\n",
       "    <tr>\n",
       "      <th>1</th>\n",
       "      <td>Dj Biffen</td>\n",
       "      <td>Merry Christmas and Happy New Year 2021 - Radi...</td>\n",
       "      <td>7h7yPyss4MIBVPXVeF83vg</td>\n",
       "      <td>25</td>\n",
       "    </tr>\n",
       "    <tr>\n",
       "      <th>2</th>\n",
       "      <td>Coldplay</td>\n",
       "      <td>My Universe</td>\n",
       "      <td>3FeVmId7tL5YN8B7R3imoM</td>\n",
       "      <td>92</td>\n",
       "    </tr>\n",
       "    <tr>\n",
       "      <th>3</th>\n",
       "      <td>Elvis Costello &amp; The Attractions</td>\n",
       "      <td>Pump It Up - 2021 Remaster</td>\n",
       "      <td>3oyc1mIdCBGaU55wX7otqM</td>\n",
       "      <td>66</td>\n",
       "    </tr>\n",
       "    <tr>\n",
       "      <th>4</th>\n",
       "      <td>Kodak Black</td>\n",
       "      <td>Super Gremlin</td>\n",
       "      <td>4A8cWXxKfIL3lAyUDzXbCF</td>\n",
       "      <td>91</td>\n",
       "    </tr>\n",
       "  </tbody>\n",
       "</table>\n",
       "</div>"
      ],
      "text/plain": [
       "                        artist_name  \\\n",
       "0        Carolina Gaitán - La Gaita   \n",
       "1                         Dj Biffen   \n",
       "2                          Coldplay   \n",
       "3  Elvis Costello & The Attractions   \n",
       "4                       Kodak Black   \n",
       "\n",
       "                                          track_name                track_id  \\\n",
       "0                          We Don't Talk About Bruno  52xJxFP6TqMuO4Yt0eOkMz   \n",
       "1  Merry Christmas and Happy New Year 2021 - Radi...  7h7yPyss4MIBVPXVeF83vg   \n",
       "2                                        My Universe  3FeVmId7tL5YN8B7R3imoM   \n",
       "3                         Pump It Up - 2021 Remaster  3oyc1mIdCBGaU55wX7otqM   \n",
       "4                                      Super Gremlin  4A8cWXxKfIL3lAyUDzXbCF   \n",
       "\n",
       "   popularity  \n",
       "0          96  \n",
       "1          25  \n",
       "2          92  \n",
       "3          66  \n",
       "4          91  "
      ]
     },
     "execution_count": 4,
     "metadata": {},
     "output_type": "execute_result"
    }
   ],
   "source": [
    "track_dataframe = pd.DataFrame({'artist_name' : artist_name,\n",
    "                                'track_name' : track_name,\n",
    "                                'track_id' : track_id,\n",
    "                                'popularity' : popularity})\n",
    "\n",
    "track_dataframe.head()"
   ]
  },
  {
   "cell_type": "code",
   "execution_count": 5,
   "id": "0ef52b6a-701b-433d-82b1-a53c4ec81ec6",
   "metadata": {},
   "outputs": [],
   "source": [
    "df = track_dataframe.to_csv('TrackList.csv', index = False)"
   ]
  },
  {
   "cell_type": "code",
   "execution_count": 6,
   "id": "8827677d-d86f-4289-9aff-e863250bb11e",
   "metadata": {},
   "outputs": [],
   "source": [
    "df"
   ]
  }
 ],
 "metadata": {
  "kernelspec": {
   "display_name": "Python 3 (ipykernel)",
   "language": "python",
   "name": "python3"
  },
  "language_info": {
   "codemirror_mode": {
    "name": "ipython",
    "version": 3
   },
   "file_extension": ".py",
   "mimetype": "text/x-python",
   "name": "python",
   "nbconvert_exporter": "python",
   "pygments_lexer": "ipython3",
   "version": "3.9.7"
  }
 },
 "nbformat": 4,
 "nbformat_minor": 5
}
